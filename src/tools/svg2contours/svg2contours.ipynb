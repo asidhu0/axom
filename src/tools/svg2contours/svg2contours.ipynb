{
 "cells": [
  {
   "cell_type": "markdown",
   "metadata": {},
   "source": [
    "Define some variables and input files"
   ]
  },
  {
   "cell_type": "code",
   "execution_count": null,
   "metadata": {},
   "outputs": [],
   "source": [
    "import importlib.util\n",
    "import os\n",
    "\n",
    "from svgpathtools import Document, Path, Line, QuadraticBezier, CubicBezier, Arc, is_bezier_path, is_bezier_segment, is_path_segment, svg2paths, bpoints2bezier\n",
    "\n",
    "import numpy as np\n",
    "import svg2contours as svg2contours\n",
    "\n",
    "import importlib\n",
    "importlib.reload(svg2contours)\n",
    "\n",
    "\n",
    "data_path = \"../../../data/contours/svg\"\n",
    "svg_file = \"shapes.svg\"\n",
    "# svg_file = \"transform.svg\"\n",
    "\n",
    "# data_path = \".\"\n",
    "# svg_file = \"ellipse.svg\"\n",
    "# svg_file = \"mdn_arc_example.svg\"\n",
    "# svg_file = \"four_arcs.svg\"\n",
    "\n",
    "\n",
    "input_file = os.path.join(data_path, svg_file)\n",
    "# print(os.path.abspath(input_file))\n",
    "# print(os.listdir(data_path))\n",
    "\n",
    "output_file = \"drawing.mesh\"\n",
    "\n",
    "doc = Document(input_file)\n",
    "paths = doc.paths()\n",
    "\n",
    "for k,v in doc.tree.getroot().attrib.items():\n",
    "    print(k,v)\n",
    "\n",
    "coordinate_transform = svg2contours.get_root_transform(doc)\n"
   ]
  },
  {
   "cell_type": "markdown",
   "metadata": {},
   "source": [
    "Convert paths to mfem mesh of cubic Bezier segments using ASCII output"
   ]
  },
  {
   "cell_type": "code",
   "execution_count": null,
   "metadata": {},
   "outputs": [],
   "source": [
    "print(paths)\n",
    "\n",
    "import importlib\n",
    "importlib.reload(svg2contours)\n",
    "\n",
    "mfem_data = svg2contours.MFEMData()\n",
    "print(f\"\"\"Creating mfem_date -- {mfem_data.elem_cnt=}\"\"\")\n",
    "\n",
    "\n",
    "for p_idx, p in enumerate(paths):\n",
    "    print(f\"\"\"reading {p_idx=} {p=} \\n w/ {p.d()=}\"\"\")\n",
    "\n",
    "    is_d_path = 'd' in p.element.keys()\n",
    "    attrib = p_idx + 1\n",
    "\n",
    "    reverse_paths = True if np.linalg.det(coordinate_transform) < 0 else False\n",
    "\n",
    "    if not all(map(is_path_segment, p)):\n",
    "        continue\n",
    "\n",
    "    for seg_idx, seg in enumerate(p):\n",
    "\n",
    "        if isinstance(seg, Arc) and seg.large_arc and is_d_path:\n",
    "            # split large elliptical arcs for easier processing\n",
    "            # this simplifies the derivation of the internal control points\n",
    "            # in `arc_to_cubic` algorithm\n",
    "            arc1,arc2 = seg.split(.5)\n",
    "            \n",
    "            cubic,weights = svg2contours.segment_as_cubic(arc1, reverse_paths)\n",
    "            xformed_cubic = svg2contours.transform_cubic(cubic, coordinate_transform)\n",
    "            mfem_data.add_cubic_bezier(xformed_cubic, weights, attrib)\n",
    "            \n",
    "            cubic,weights = svg2contours.segment_as_cubic(arc2, reverse_paths)\n",
    "            xformed_cubic = svg2contours.transform_cubic(cubic, coordinate_transform)\n",
    "            mfem_data.add_cubic_bezier(xformed_cubic, weights, attrib)\n",
    "        else:\n",
    "            cubic,weights = svg2contours.segment_as_cubic(seg, reverse_paths)\n",
    "            xformed_cubic = svg2contours.transform_cubic(cubic, coordinate_transform)\n",
    "            mfem_data.add_cubic_bezier(xformed_cubic, weights, attrib)\n",
    "\n",
    "mfem_data.write_file(output_file)\n",
    "\n"
   ]
  },
  {
   "cell_type": "code",
   "execution_count": null,
   "metadata": {},
   "outputs": [],
   "source": []
  }
 ],
 "metadata": {
  "kernelspec": {
   "display_name": "venv",
   "language": "python",
   "name": "python3"
  },
  "language_info": {
   "codemirror_mode": {
    "name": "ipython",
    "version": 3
   },
   "file_extension": ".py",
   "mimetype": "text/x-python",
   "name": "python",
   "nbconvert_exporter": "python",
   "pygments_lexer": "ipython3",
   "version": "3.9.12"
  }
 },
 "nbformat": 4,
 "nbformat_minor": 2
}
