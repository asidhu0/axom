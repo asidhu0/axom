{
 "cells": [
  {
   "cell_type": "markdown",
   "metadata": {},
   "source": [
    "Define some variables and input files"
   ]
  },
  {
   "cell_type": "code",
   "execution_count": null,
   "metadata": {},
   "outputs": [],
   "source": [
    "import os\n",
    "\n",
    "data_path = \"../../../data/contours/svg\"\n",
    "svg_file = \"shapes.svg\"\n",
    "# svg_file = \"transform.svg\"\n",
    "\n",
    "input_file = os.path.join(data_path, svg_file)\n",
    "# print(os.path.abspath(input_file))\n",
    "# print(os.listdir(data_path))\n",
    "\n",
    "output_file = \"drawing.mesh\""
   ]
  },
  {
   "cell_type": "markdown",
   "metadata": {},
   "source": [
    "Load SVG file using `svgpathtools`"
   ]
  },
  {
   "cell_type": "code",
   "execution_count": null,
   "metadata": {},
   "outputs": [],
   "source": [
    "from svgpathtools import Document, Path, Line, QuadraticBezier, CubicBezier, Arc, is_bezier_path, svg2paths, wsvg\n",
    "\n",
    "doc = Document(input_file)\n",
    "paths = doc.paths()"
   ]
  },
  {
   "cell_type": "markdown",
   "metadata": {},
   "source": [
    "Some utility functions"
   ]
  },
  {
   "cell_type": "code",
   "execution_count": null,
   "metadata": {},
   "outputs": [],
   "source": [
    "def lerp(a,b,t):\n",
    "    return (1-t)*a+t*b\n",
    "\n",
    "def line_to_cubic(line : Line):\n",
    "    p_0,p_3 = line.bpoints()\n",
    "    return CubicBezier(p_0, lerp(p_0, p_3, 1/3), lerp(p_0, p_3, 2/3), p_3)\n",
    "\n",
    "def quadratic_to_cubic(quad : QuadraticBezier):\n",
    "    q_0,q_1,q_2 = quad.bpoints()\n",
    "    return CubicBezier(q_0, lerp(q_0,q_1, 2/3), lerp(q_1,q_2, 1/3), q_2)\n",
    "\n",
    "def segment_as_cubic(seg):\n",
    "    if isinstance(seg,Line):\n",
    "        return line_to_cubic(seg)\n",
    "    elif isinstance(seg,QuadraticBezier):\n",
    "        return quadratic_to_cubic(seg)\n",
    "    elif isinstance(seg, CubicBezier):\n",
    "        return seg\n",
    "    elif isinstance(seg,Arc):\n",
    "        raise Exception(\"'Arc' type not yet supported\")\n",
    "    else:\n",
    "        raise Exception(f\"'{type(seg)}' type not supported yet\")\n"
   ]
  },
  {
   "cell_type": "markdown",
   "metadata": {},
   "source": [
    "Print out the paths and segments"
   ]
  },
  {
   "cell_type": "code",
   "execution_count": null,
   "metadata": {},
   "outputs": [],
   "source": [
    "for p_idx, p in enumerate(paths):\n",
    "    for seg_idx, seg in enumerate(p):\n",
    "        try:\n",
    "            cubic =  segment_as_cubic(seg)\n",
    "            print(f\"[Path {p_idx}; Seg {seg_idx}]:\\n\\t{seg}\\n\\tas cubic: {cubic}\")\n",
    "        except Exception as err:\n",
    "            print(f\"[Path {p_idx}; Seg {seg_idx}]:\\n\\t{seg}\")\n",
    "            print(f\"parsed unsupported type {type(seg)}. Msg={err}\")\n"
   ]
  },
  {
   "cell_type": "markdown",
   "metadata": {},
   "source": [
    "Convert paths to mfem mesh of cubic Bezier segments using ASCII output"
   ]
  },
  {
   "cell_type": "code",
   "execution_count": null,
   "metadata": {},
   "outputs": [],
   "source": [
    "import numpy as np\n",
    "\n",
    "# Create an mfem mesh\n",
    "\n",
    "header = \"\"\"\n",
    "MFEM mesh v1.0\n",
    "\n",
    "# MFEM Geometry Types (see mesh/geom.hpp):\n",
    "#\n",
    "# POINT       = 0\n",
    "# SEGMENT     = 1\n",
    "# TRIANGLE    = 2\n",
    "# SQUARE      = 3\n",
    "# TETRAHEDRON = 4\n",
    "# CUBE        = 5\n",
    "#\n",
    "\n",
    "dimension\n",
    "1\n",
    "\"\"\"\n",
    "\n",
    "vert_cnt = 0\n",
    "elem_cnt = 0\n",
    "verts = []\n",
    "dofs = []\n",
    "elts = []\n",
    "\n",
    "# print(paths)\n",
    "\n",
    "for p_idx, p in enumerate(paths):\n",
    "\n",
    "    if not is_bezier_path(p):\n",
    "        continue\n",
    "\n",
    "    for seg_idx, seg in enumerate(p):\n",
    "        cubic = segment_as_cubic(seg)\n",
    "        elts.append(\" \".join(map(str,[p_idx + 1, 1, vert_cnt, vert_cnt + 1])))\n",
    "        verts.append(\" \".join(map(str,[cubic.start.real, cubic.start.imag])))\n",
    "        verts.append(\" \".join(map(str,[cubic.end.real, cubic.end.imag])))\n",
    "        dofs.append(\" \".join(map(str,[cubic.control1.real, cubic.control1.imag])))\n",
    "        dofs.append(\" \".join(map(str,[cubic.control2.real, cubic.control2.imag])))\n",
    "        vert_cnt += 2\n",
    "        elem_cnt += 1 \n",
    "\n",
    "mfem_file = []\n",
    "mfem_file.append(header)\n",
    "mfem_file.append(\"\"\"\n",
    "elements\n",
    "{}\n",
    "{}\n",
    "\"\"\".format(elem_cnt, \"\\n\".join(elts)))\n",
    "\n",
    "mfem_file.append(\"\"\"\n",
    "boundary\n",
    "0\n",
    "\"\"\")\n",
    "\n",
    "mfem_file.append(f\"\"\"\n",
    "vertices\n",
    "{vert_cnt}\n",
    "\"\"\")\n",
    "\n",
    "mfem_file.append(\"\"\"\n",
    "nodes\n",
    "FiniteElementSpace\n",
    "FiniteElementCollection: H1Pos_1D_P3\n",
    "VDim: 2\n",
    "Ordering: 1\n",
    "\n",
    "{}\n",
    "{}\n",
    "\"\"\".format(\"\\n\".join(verts),\"\\n\".join(dofs)))\n",
    "\n",
    "with open(output_file, mode='w') as f:\n",
    "    f.write(\"\\n\".join(mfem_file))\n",
    "    print(f\"wrote '{output_file}' with {vert_cnt} vertices and {elem_cnt} elements\")\n"
   ]
  }
 ],
 "metadata": {
  "kernelspec": {
   "display_name": "svg2contour",
   "language": "python",
   "name": "svg2contour"
  },
  "language_info": {
   "codemirror_mode": {
    "name": "ipython",
    "version": 3
   },
   "file_extension": ".py",
   "mimetype": "text/x-python",
   "name": "python",
   "nbconvert_exporter": "python",
   "pygments_lexer": "ipython3",
   "version": "3.9.12"
  }
 },
 "nbformat": 4,
 "nbformat_minor": 2
}
